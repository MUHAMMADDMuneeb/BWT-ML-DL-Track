{
 "cells": [
  {
   "cell_type": "code",
   "execution_count": 2,
   "metadata": {},
   "outputs": [
    {
     "name": "stdout",
     "output_type": "stream",
     "text": [
      "    ad_ref  assembly       body ad_city                color  engine_cc  \\\n",
      "0  7927285  Imported        Van  Lahore          Pearl White     2000.0   \n",
      "1  7679303  Imported  Hatchback  Lahore                 Grey      996.0   \n",
      "2  7915479     Local      Sedan  Lahore          Super white     1798.0   \n",
      "3  7918380     Local      Sedan  Lahore  Crystal Black Pearl     1500.0   \n",
      "4  7676167  Imported        MPV  Lahore               Silver     3000.0   \n",
      "\n",
      "  fuel_type    make  mileage    model     registered transmission    year  \\\n",
      "0    Hybrid  Nissan   124000   Serena  Un-Registered    Automatic  1905.0   \n",
      "1    Petrol  Toyota    30738     Vitz         Punjab    Automatic  1905.0   \n",
      "2    Petrol  Toyota   183000  Corolla         Punjab    Automatic  1905.0   \n",
      "3    Petrol   Honda    41000    Civic         Punjab    Automatic  1905.0   \n",
      "4    Petrol  Toyota   126000  Alphard         Punjab    Automatic  1905.0   \n",
      "\n",
      "       price  \n",
      "0  8990000.0  \n",
      "1  4190000.0  \n",
      "2  3990000.0  \n",
      "3  6490000.0  \n",
      "4  4750000.0  \n"
     ]
    }
   ],
   "source": [
    "import pandas as pd\n",
    "from sklearn.model_selection import train_test_split\n",
    "from sklearn.tree import DecisionTreeClassifier\n",
    "from sklearn.metrics import mean_squared_error, r2_score\n",
    "from sklearn.preprocessing import LabelEncoder\n",
    "from sklearn.metrics import accuracy_score\n",
    "from sklearn.ensemble import RandomForestRegressor\n",
    "from sklearn.svm import SVC\n",
    "from sklearn.preprocessing import StandardScaler\n",
    "\n",
    "\n",
    "cars_file_path = r'Data\\pakwheels_used_cars.csv'\n",
    "# Load the dataset\n",
    "data = pd.read_csv(cars_file_path)\n",
    "data['assembly'].fillna('Local', inplace=True)\n",
    "# Display the first few rows of the dataset\n",
    "print(data.head())\n",
    "\n",
    "# Preprocess the dataset\n",
    "# Handle missing values, encode categorical variables, etc.\n",
    "# Assuming 'price' is the target variable and the rest are features\n",
    "\n",
    "# Convert categorical columns to dummy variables\n",
    "data=data.dropna()\n",
    "data = pd.get_dummies(data, columns=['fuel_type'])\n",
    "data = pd.get_dummies(data, columns=['transmission'])\n",
    "data = pd.get_dummies(data, columns=['assembly'])\n",
    "\n",
    "label_encoder = LabelEncoder()\n",
    "data['body'] = label_encoder.fit_transform(data['body'])\n",
    "data['ad_city'] = label_encoder.fit_transform(data['ad_city'])\n",
    "data['color'] = label_encoder.fit_transform(data['color'])\n",
    "data['make'] = label_encoder.fit_transform(data['make'])\n",
    "data['model'] = label_encoder.fit_transform(data['model'])\n",
    "data['registered'] = label_encoder.fit_transform(data['registered'])\n",
    "# Define features (X) and target (y)\n",
    "X = data.drop(['price'], axis=1)\n",
    "y = data['price']\n",
    "\n",
    "# Split the dataset into training and testing sets\n",
    "X_train, X_test, y_train, y_test = train_test_split(X, y, test_size=0.2, random_state=42)"
   ]
  },
  {
   "cell_type": "code",
   "execution_count": 1,
   "metadata": {},
   "outputs": [],
   "source": [
    "scaler = StandardScaler()\n",
    "X_train = scaler.fit_transform(X_train)\n",
    "X_test = scaler.transform(X_test)\n",
    "\n",
    "# Create the Support Vector Classifier\n",
    "svm = SVC(kernel='rbf', C=1.0, gamma='scale')\n",
    "\n",
    "# Train the model\n",
    "svm.fit(X_train, y_train)\n",
    "\n",
    "# Make predictions\n",
    "y_pred = svm.predict(X_test)\n",
    "\n"
   ]
  }
 ],
 "metadata": {
  "kernelspec": {
   "display_name": "Python 3",
   "language": "python",
   "name": "python3"
  },
  "language_info": {
   "codemirror_mode": {
    "name": "ipython",
    "version": 3
   },
   "file_extension": ".py",
   "mimetype": "text/x-python",
   "name": "python",
   "nbconvert_exporter": "python",
   "pygments_lexer": "ipython3",
   "version": "3.11.4"
  }
 },
 "nbformat": 4,
 "nbformat_minor": 2
}
