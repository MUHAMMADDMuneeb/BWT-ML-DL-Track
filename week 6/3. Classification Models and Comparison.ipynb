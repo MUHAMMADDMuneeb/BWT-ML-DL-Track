{
 "cells": [
  {
   "cell_type": "markdown",
   "metadata": {},
   "source": [
    "______________________________________________________________________________________________________________________________________\n",
    "3. Machine Learning Models\n",
    "Classification Task:\n",
    "   - Apply at least three different classification algorithms (e.g., Logistic Regression, Decision Trees, Random Forest) to the `weather_classification_data.csv` dataset with the reason why you choose those models.\n",
    "   - Train the models on the training set and evaluate their performance on the test set using appropriate evaluation metrics.\n",
    "______________________________________________________________________________________________________________________________________\n"
   ]
  },
  {
   "cell_type": "code",
   "execution_count": 2,
   "metadata": {},
   "outputs": [
    {
     "name": "stdout",
     "output_type": "stream",
     "text": [
      "--------Weather Classfication data--------\n",
      "   Temperature  Humidity  Wind Speed  Precipitation (%)    Cloud Cover  \\\n",
      "0         14.0        73         9.5               82.0  partly cloudy   \n",
      "1         39.0        96         8.5               71.0  partly cloudy   \n",
      "2         30.0        64         7.0               16.0          clear   \n",
      "3         38.0        83         1.5               82.0          clear   \n",
      "4         27.0        74        17.0               66.0       overcast   \n",
      "\n",
      "   Atmospheric Pressure  UV Index  Season  Visibility (km)  Location  \\\n",
      "0               1010.82         2  Winter              3.5    inland   \n",
      "1               1011.43         7  Spring             10.0    inland   \n",
      "2               1018.72         5  Spring              5.5  mountain   \n",
      "3               1026.25         7  Spring              1.0   coastal   \n",
      "4                990.67         1  Winter              2.5  mountain   \n",
      "\n",
      "  Weather Type  \n",
      "0        Rainy  \n",
      "1       Cloudy  \n",
      "2        Sunny  \n",
      "3        Sunny  \n",
      "4        Rainy  \n"
     ]
    }
   ],
   "source": [
    "import pandas as pd\n",
    "from sklearn.preprocessing import LabelEncoder\n",
    "from sklearn.preprocessing import MinMaxScaler\n",
    "from sklearn.preprocessing import StandardScaler\n",
    "from sklearn.model_selection import train_test_split\n",
    "\n",
    "# Hypothetical file path\n",
    "weather_file_path = r'Data\\weather_classification_data.csv'\n",
    "\n",
    "# Load the dataset\n",
    "weather_df=pd.read_csv(weather_file_path)\n",
    "\n",
    "# Display the first few rows of the dataset\n",
    "print(\"--------Weather Classfication data--------\")\n",
    "print(weather_df.head())"
   ]
  },
  {
   "cell_type": "code",
   "execution_count": 3,
   "metadata": {},
   "outputs": [
    {
     "name": "stdout",
     "output_type": "stream",
     "text": [
      "   Temperature  Humidity  Wind Speed  Precipitation (%)  Atmospheric Pressure  \\\n",
      "0         14.0        73         9.5               82.0               1010.82   \n",
      "1         39.0        96         8.5               71.0               1011.43   \n",
      "2         30.0        64         7.0               16.0               1018.72   \n",
      "3         38.0        83         1.5               82.0               1026.25   \n",
      "4         27.0        74        17.0               66.0                990.67   \n",
      "\n",
      "   UV Index  Visibility (km) Weather Type  Cloud Cover_clear  \\\n",
      "0         2              3.5        Rainy              False   \n",
      "1         7             10.0       Cloudy              False   \n",
      "2         5              5.5        Sunny               True   \n",
      "3         7              1.0        Sunny               True   \n",
      "4         1              2.5        Rainy              False   \n",
      "\n",
      "   Cloud Cover_cloudy  Cloud Cover_overcast  Cloud Cover_partly cloudy  \\\n",
      "0               False                 False                       True   \n",
      "1               False                 False                       True   \n",
      "2               False                 False                      False   \n",
      "3               False                 False                      False   \n",
      "4               False                  True                      False   \n",
      "\n",
      "   Season_Autumn  Season_Spring  Season_Summer  Season_Winter  \\\n",
      "0          False          False          False           True   \n",
      "1          False           True          False          False   \n",
      "2          False           True          False          False   \n",
      "3          False           True          False          False   \n",
      "4          False          False          False           True   \n",
      "\n",
      "   Location_coastal  Location_inland  Location_mountain  \n",
      "0             False             True              False  \n",
      "1             False             True              False  \n",
      "2             False            False               True  \n",
      "3              True            False              False  \n",
      "4             False            False               True  \n",
      "Number of rows in weather_df: 13200\n"
     ]
    }
   ],
   "source": [
    "\n",
    "def Drop_Missing_value(weather_df):\n",
    "    weather_df = weather_df.dropna()\n",
    "    return  weather_df\n",
    "\n",
    "weather_df = Drop_Missing_value( weather_df)\n",
    "weather_df=pd.get_dummies(weather_df,columns=['Cloud Cover'])\n",
    "weather_df=pd.get_dummies(weather_df,columns=['Season'])\n",
    "weather_df=pd.get_dummies(weather_df,columns=['Location'])\n",
    "# weather_df=pd.get_dummies(weather_df,columns=['Weather Type'])\n",
    "print(weather_df.head())\n",
    "num_rows_weather = weather_df.shape[0]\n",
    "print(f\"Number of rows in weather_df: {num_rows_weather}\")"
   ]
  },
  {
   "cell_type": "code",
   "execution_count": 4,
   "metadata": {},
   "outputs": [
    {
     "name": "stdout",
     "output_type": "stream",
     "text": [
      "------Weather Classification data---------\n",
      "\n",
      "Number of rows of Trainig of Weather data: 10560\n",
      "Number of rows of Testing of Weather data: 2640\n"
     ]
    }
   ],
   "source": [
    "X=weather_df.drop('Weather Type' ,axis=1)\n",
    "Y=weather_df['Weather Type']\n",
    "Xtrain, Xtest,Ytrain,Ytest = train_test_split(X,Y, test_size=0.2)\n",
    "\n",
    "print(\"------Weather Classification data---------\\n\")\n",
    "num_rows_train_weather = Xtrain.shape[0]\n",
    "print(f\"Number of rows of Trainig of Weather data: {num_rows_train_weather}\")  \n",
    "num_rows_test_weather = Xtest.shape[0]\n",
    "print(f\"Number of rows of Testing of Weather data: {num_rows_test_weather}\") "
   ]
  },
  {
   "cell_type": "markdown",
   "metadata": {},
   "source": [
    "______________________________________________________________________________________________________________________________________\n",
    "Logistic Regression Model                 \n",
    "______________________________________________________________________________________________________________________________________"
   ]
  },
  {
   "cell_type": "code",
   "execution_count": 24,
   "metadata": {},
   "outputs": [
    {
     "name": "stdout",
     "output_type": "stream",
     "text": [
      "Logistic Regression\n",
      "Accuracy: 0.871969696969697\n",
      "Classification Report:\n",
      "               precision    recall  f1-score   support\n",
      "\n",
      "      Cloudy       0.80      0.83      0.82       627\n",
      "       Rainy       0.86      0.85      0.86       692\n",
      "       Snowy       0.89      0.92      0.91       654\n",
      "       Sunny       0.94      0.88      0.91       667\n",
      "\n",
      "    accuracy                           0.87      2640\n",
      "   macro avg       0.87      0.87      0.87      2640\n",
      "weighted avg       0.87      0.87      0.87      2640\n",
      "\n"
     ]
    }
   ],
   "source": [
    "from sklearn.linear_model import LogisticRegression\n",
    "from sklearn.metrics import classification_report, accuracy_score, roc_auc_score\n",
    "from sklearn.preprocessing import StandardScaler\n",
    "from sklearn.metrics import precision_score, recall_score, f1_score\n",
    "\n",
    "scaler = StandardScaler()\n",
    "X_train_scaled = scaler.fit_transform(Xtrain)\n",
    "X_test_scaled = scaler.transform(Xtest)\n",
    "# Train Logistic Regression\n",
    "lr_model = LogisticRegression(max_iter=20000)\n",
    "lr_model.fit(X_train_scaled, Ytrain)\n",
    "\n",
    "# Predict on test set\n",
    "y_pred_lr = lr_model.predict(X_test_scaled)\n",
    "\n",
    "# Evaluate Logistic Regression\n",
    "print(\"Logistic Regression\")\n",
    "print(\"Accuracy:\", accuracy_score(Ytest, y_pred_lr))\n",
    "print(\"Classification Report:\\n\", classification_report(Ytest, y_pred_lr))\n",
    "\n",
    "\n",
    "\n",
    "accuracy_log_reg = accuracy_score(Ytest, y_pred_lr)\n",
    "precision_log_reg = precision_score(Ytest, y_pred_lr, average='weighted')\n",
    "recall_log_reg = recall_score(Ytest, y_pred_lr, average='weighted')\n",
    "f1_log_reg = f1_score(Ytest, y_pred_lr, average='weighted')\n",
    "\n"
   ]
  },
  {
   "cell_type": "markdown",
   "metadata": {},
   "source": [
    "______________________________________________________________________________________________________________________________________\n",
    "Decision Tree          \n",
    "______________________________________________________________________________________________________________________________________"
   ]
  },
  {
   "cell_type": "code",
   "execution_count": 25,
   "metadata": {},
   "outputs": [
    {
     "name": "stdout",
     "output_type": "stream",
     "text": [
      "Decision Tree Accuracy: 0.9128787878787878\n",
      "              precision    recall  f1-score   support\n",
      "\n",
      "      Cloudy       0.89      0.90      0.89       627\n",
      "       Rainy       0.91      0.91      0.91       692\n",
      "       Snowy       0.94      0.93      0.93       654\n",
      "       Sunny       0.92      0.92      0.92       667\n",
      "\n",
      "    accuracy                           0.91      2640\n",
      "   macro avg       0.91      0.91      0.91      2640\n",
      "weighted avg       0.91      0.91      0.91      2640\n",
      "\n"
     ]
    }
   ],
   "source": [
    "from sklearn.tree import DecisionTreeClassifier\n",
    "from sklearn.pipeline import Pipeline\n",
    "from sklearn.compose import ColumnTransformer\n",
    "# Create a pipeline for decision tree\n",
    "dt_pipeline = Pipeline(steps=[('classifier', DecisionTreeClassifier(random_state=42))])\n",
    "\n",
    "# Train the model\n",
    "dt_pipeline.fit(Xtrain, Ytrain)\n",
    "\n",
    "# Make predictions\n",
    "y_pred_dt = dt_pipeline.predict(Xtest)\n",
    "\n",
    "# Evaluate the model\n",
    "accuracy_dt = accuracy_score(Ytest, y_pred_dt)\n",
    "print(f\"Decision Tree Accuracy: {accuracy_dt}\")\n",
    "print(classification_report(Ytest, y_pred_dt))\n",
    "\n",
    "\n",
    "accuracy_dt = accuracy_score(Ytest, y_pred_dt)\n",
    "precision_dt = precision_score(Ytest, y_pred_dt, average='weighted')\n",
    "recall_dt = recall_score(Ytest, y_pred_dt, average='weighted')\n",
    "f1_dt = f1_score(Ytest, y_pred_dt, average='weighted')\n"
   ]
  },
  {
   "cell_type": "markdown",
   "metadata": {},
   "source": [
    "______________________________________________________________________________________________________________________________________\n",
    "Random Forest                \n",
    "______________________________________________________________________________________________________________________________________"
   ]
  },
  {
   "cell_type": "code",
   "execution_count": 26,
   "metadata": {},
   "outputs": [
    {
     "name": "stdout",
     "output_type": "stream",
     "text": [
      "Random Forest Accuracy: 0.915530303030303\n",
      "              precision    recall  f1-score   support\n",
      "\n",
      "      Cloudy       0.86      0.92      0.89       627\n",
      "       Rainy       0.91      0.91      0.91       692\n",
      "       Snowy       0.96      0.92      0.94       654\n",
      "       Sunny       0.93      0.91      0.92       667\n",
      "\n",
      "    accuracy                           0.92      2640\n",
      "   macro avg       0.92      0.92      0.92      2640\n",
      "weighted avg       0.92      0.92      0.92      2640\n",
      "\n"
     ]
    }
   ],
   "source": [
    "from sklearn.ensemble import RandomForestClassifier\n",
    "\n",
    "# Create a pipeline for random forest\n",
    "rf_pipeline = Pipeline(steps=[\n",
    "                              ('classifier', RandomForestClassifier(random_state=42))])\n",
    "\n",
    "# Train the model\n",
    "rf_pipeline.fit(Xtrain, Ytrain)\n",
    "\n",
    "# Make predictions\n",
    "y_pred_rf = rf_pipeline.predict(Xtest)\n",
    "\n",
    "# Evaluate the model\n",
    "accuracy_rf = accuracy_score(Ytest, y_pred_rf)\n",
    "print(f\"Random Forest Accuracy: {accuracy_rf}\")\n",
    "print(classification_report(Ytest, y_pred_rf))\n",
    "\n",
    "\n",
    "accuracy_rf = accuracy_score(Ytest, y_pred_rf)\n",
    "precision_rf = precision_score(Ytest, y_pred_rf, average='weighted')\n",
    "recall_rf = recall_score(Ytest, y_pred_rf, average='weighted')\n",
    "f1_rf = f1_score(Ytest, y_pred_rf, average='weighted')"
   ]
  },
  {
   "cell_type": "markdown",
   "metadata": {},
   "source": [
    "______________________________________________________________________________________________________________________________________\n",
    "4. Model Evaluation and Comparison\n",
    "  1 Model Performance Comparison:\n",
    "   - Compare the performance of different models for classification tasks.\n",
    "   - Create tables or visualizations to summarize the performance metrics of each model.\n",
    "   - Discuss which model performed the best for each task and provide possible reasons for its superior performance.\n",
    "______________________________________________________________________________________________________________________________________"
   ]
  },
  {
   "cell_type": "code",
   "execution_count": 27,
   "metadata": {},
   "outputs": [
    {
     "name": "stdout",
     "output_type": "stream",
     "text": [
      "                 Model  Accuracy  Precision    Recall  F1-Score\n",
      "0  Logistic Regression  0.871970   0.873528  0.871970  0.872370\n",
      "1        Decision Tree  0.912879   0.912978  0.912879  0.912918\n",
      "2        Random Forest  0.915530   0.916797  0.915530  0.915836\n"
     ]
    }
   ],
   "source": [
    "summary_df = pd.DataFrame({\n",
    "    'Model': ['Logistic Regression', 'Decision Tree', 'Random Forest'],\n",
    "    'Accuracy': [accuracy_log_reg, accuracy_dt, accuracy_rf],\n",
    "    'Precision': [precision_log_reg, precision_dt, precision_rf],\n",
    "    'Recall': [recall_log_reg, recall_dt, recall_rf],\n",
    "    'F1-Score': [f1_log_reg, f1_dt, f1_rf]\n",
    "})\n",
    "\n",
    "print(summary_df)"
   ]
  },
  {
   "cell_type": "code",
   "execution_count": 30,
   "metadata": {},
   "outputs": [
    {
     "data": {
      "image/png": "[encoded data removed]",
      "text/plain": [
       "<Figure size 1000x600 with 1 Axes>"
      ]
     },
     "metadata": {},
     "output_type": "display_data"
    }
   ],
   "source": [
    "import matplotlib.pyplot as plt\n",
    "\n",
    "# Plot accuracy\n",
    "plt.figure(figsize=(10, 6))\n",
    "plt.bar(summary_df['Model'], summary_df['Accuracy'], color=['blue', 'green', 'red'])\n",
    "plt.xlabel('Model')\n",
    "plt.ylabel('Accuracy')\n",
    "plt.title('Model Accuracy Comparison')\n",
    "plt.ylim([0, 1])\n",
    "for i in range(len(summary_df)):\n",
    "    plt.text(i, summary_df['Accuracy'][i] + 0.01, f\"{summary_df['Accuracy'][i]:.2f}\", ha='center')\n",
    "plt.show()\n"
   ]
  }
 ],
 "metadata": {
  "kernelspec": {
   "display_name": "Python 3",
   "language": "python",
   "name": "python3"
  },
  "language_info": {
   "codemirror_mode": {
    "name": "ipython",
    "version": 3
   },
   "file_extension": ".py",
   "mimetype": "text/x-python",
   "name": "python",
   "nbconvert_exporter": "python",
   "pygments_lexer": "ipython3",
   "version": "3.11.4"
  }
 },
 "nbformat": 4,
 "nbformat_minor": 2
}
